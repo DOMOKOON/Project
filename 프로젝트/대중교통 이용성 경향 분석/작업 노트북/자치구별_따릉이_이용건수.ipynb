{
 "cells": [
  {
   "cell_type": "markdown",
   "id": "2af652e6",
   "metadata": {},
   "source": [
    "# 2024년 따릉이 이용건수 데이터 확인"
   ]
  },
  {
   "cell_type": "code",
   "execution_count": 13,
   "id": "538632ee-c639-40af-8cad-394440dcfb55",
   "metadata": {},
   "outputs": [],
   "source": [
    "import pandas as pd\n",
    "import numpy as np\n",
    "import os\n",
    "import time\n",
    "import warnings\n",
    "warnings.filterwarnings('ignore')\n",
    "\n",
    "pd.set_option('display.max_rows', 100)"
   ]
  },
  {
   "cell_type": "markdown",
   "id": "a5bb41b2",
   "metadata": {},
   "source": [
    "### csv파일 합치기\n",
    "#### 24년 공공자전거 이용정보(시간대별) 데이터 병합\n",
    "\n",
    "- 서울특별시 공공자전거 이용정보(시간대별)_202401.csv\n",
    "- 서울특별시 공공자전거 이용정보(시간대별)_202402.csv\n",
    "- 서울특별시 공공자전거 이용정보(시간대별)_202403.csv\n",
    "- 서울특별시 공공자전거 이용정보(시간대별)_202404.csv\n",
    "- 서울특별시 공공자전거 이용정보(시간대별)_202405.csv\n",
    "- 서울특별시 공공자전거 이용정보(시간대별)_202406.csv\n",
    "\n",
    "병합할 파일은 하나의 폴더에 존재해야 함"
   ]
  },
  {
   "cell_type": "code",
   "execution_count": null,
   "id": "137fa048",
   "metadata": {},
   "outputs": [],
   "source": [
    "folder_path = 'C:/Users/GBOOK/Codeit/초급프로젝트/02_data/03_따릉이/24년'  # CSV 파일들이 저장된 폴더 경로\n",
    "csv_files = [os.path.join(folder_path, file) for file in os.listdir(folder_path) if file.endswith('.csv')]"
   ]
  },
  {
   "cell_type": "code",
   "execution_count": null,
   "id": "aff6e474",
   "metadata": {},
   "outputs": [],
   "source": [
    "# 빈 리스트 생성\n",
    "dataframes = []\n",
    "\n",
    "# 각 CSV 파일을 읽어서 리스트에 추가\n",
    "for file in csv_files:\n",
    "    df = pd.read_csv(file, encoding='cp949')  # 필요시 옵션 추가 (예: encoding='utf-8-sig')\n",
    "    dataframes.append(df)\n",
    "\n",
    "# 데이터프레임 병합\n",
    "combined_df = pd.concat(dataframes, ignore_index=True)  # 인덱스 초기화\n"
   ]
  },
  {
   "cell_type": "code",
   "execution_count": null,
   "id": "b9a8ed53",
   "metadata": {},
   "outputs": [],
   "source": [
    "combined_df.to_csv('combined_file.csv', index=False, encoding='cp949')"
   ]
  },
  {
   "cell_type": "markdown",
   "id": "604824a1",
   "metadata": {},
   "source": [
    "### 병합이 완료된 이후에는 병합된 csv파일 불러오기"
   ]
  },
  {
   "cell_type": "code",
   "execution_count": 2,
   "id": "b820880d",
   "metadata": {},
   "outputs": [
    {
     "name": "stdout",
     "output_type": "stream",
     "text": [
      "시간:53.09초\n"
     ]
    }
   ],
   "source": [
    "start_time = time.time()\n",
    "combined_df = pd.read_csv(\"combined_file.csv\", usecols=['대여일자', '대여시간', '대여소번호', '대여소명', '이용건수'], encoding='cp949')\n",
    "end_time = time.time()\n",
    "\n",
    "print(f\"시간:{end_time - start_time:.2f}초\")"
   ]
  },
  {
   "cell_type": "markdown",
   "id": "2c61eb4d",
   "metadata": {},
   "source": [
    "### 데이터 확인하기"
   ]
  },
  {
   "cell_type": "code",
   "execution_count": 3,
   "id": "db7527ab",
   "metadata": {},
   "outputs": [
    {
     "data": {
      "text/html": [
       "<div>\n",
       "<style scoped>\n",
       "    .dataframe tbody tr th:only-of-type {\n",
       "        vertical-align: middle;\n",
       "    }\n",
       "\n",
       "    .dataframe tbody tr th {\n",
       "        vertical-align: top;\n",
       "    }\n",
       "\n",
       "    .dataframe thead th {\n",
       "        text-align: right;\n",
       "    }\n",
       "</style>\n",
       "<table border=\"1\" class=\"dataframe\">\n",
       "  <thead>\n",
       "    <tr style=\"text-align: right;\">\n",
       "      <th></th>\n",
       "      <th>대여일자</th>\n",
       "      <th>대여시간</th>\n",
       "      <th>대여소번호</th>\n",
       "      <th>대여소명</th>\n",
       "      <th>이용건수</th>\n",
       "    </tr>\n",
       "  </thead>\n",
       "  <tbody>\n",
       "    <tr>\n",
       "      <th>0</th>\n",
       "      <td>2024-01-01</td>\n",
       "      <td>0</td>\n",
       "      <td>1175</td>\n",
       "      <td>1175. 대한항공 인력개발센터</td>\n",
       "      <td>1</td>\n",
       "    </tr>\n",
       "    <tr>\n",
       "      <th>1</th>\n",
       "      <td>2024-01-01</td>\n",
       "      <td>0</td>\n",
       "      <td>669</td>\n",
       "      <td>669.청계한신휴플러스앞 삼거리</td>\n",
       "      <td>1</td>\n",
       "    </tr>\n",
       "    <tr>\n",
       "      <th>2</th>\n",
       "      <td>2024-01-01</td>\n",
       "      <td>0</td>\n",
       "      <td>5760</td>\n",
       "      <td>5760. 풍납사거리 성내유수지</td>\n",
       "      <td>1</td>\n",
       "    </tr>\n",
       "    <tr>\n",
       "      <th>3</th>\n",
       "      <td>2024-01-01</td>\n",
       "      <td>0</td>\n",
       "      <td>1153</td>\n",
       "      <td>1153. 발산역 1번, 9번 인근 대여소</td>\n",
       "      <td>1</td>\n",
       "    </tr>\n",
       "    <tr>\n",
       "      <th>4</th>\n",
       "      <td>2024-01-01</td>\n",
       "      <td>0</td>\n",
       "      <td>1265</td>\n",
       "      <td>1265. 문정동 근린공원</td>\n",
       "      <td>1</td>\n",
       "    </tr>\n",
       "  </tbody>\n",
       "</table>\n",
       "</div>"
      ],
      "text/plain": [
       "         대여일자  대여시간  대여소번호                     대여소명  이용건수\n",
       "0  2024-01-01     0   1175        1175. 대한항공 인력개발센터     1\n",
       "1  2024-01-01     0    669        669.청계한신휴플러스앞 삼거리     1\n",
       "2  2024-01-01     0   5760        5760. 풍납사거리 성내유수지     1\n",
       "3  2024-01-01     0   1153  1153. 발산역 1번, 9번 인근 대여소     1\n",
       "4  2024-01-01     0   1265           1265. 문정동 근린공원     1"
      ]
     },
     "execution_count": 3,
     "metadata": {},
     "output_type": "execute_result"
    }
   ],
   "source": [
    "combined_df.head()"
   ]
  },
  {
   "cell_type": "code",
   "execution_count": 4,
   "id": "69c05b1c",
   "metadata": {
    "scrolled": true
   },
   "outputs": [
    {
     "data": {
      "text/plain": [
       "(19369651, 5)"
      ]
     },
     "execution_count": 4,
     "metadata": {},
     "output_type": "execute_result"
    }
   ],
   "source": [
    "combined_df.shape"
   ]
  },
  {
   "cell_type": "code",
   "execution_count": 5,
   "id": "31eca1a1",
   "metadata": {
    "scrolled": false
   },
   "outputs": [
    {
     "data": {
      "text/plain": [
       "대여일자     0\n",
       "대여시간     0\n",
       "대여소번호    0\n",
       "대여소명     0\n",
       "이용건수     0\n",
       "dtype: int64"
      ]
     },
     "execution_count": 5,
     "metadata": {},
     "output_type": "execute_result"
    }
   ],
   "source": [
    "combined_df.isna().sum()"
   ]
  },
  {
   "cell_type": "code",
   "execution_count": 6,
   "id": "f02c0d96",
   "metadata": {},
   "outputs": [
    {
     "data": {
      "text/plain": [
       "Index(['대여일자', '대여시간', '대여소번호', '대여소명', '이용건수'], dtype='object')"
      ]
     },
     "execution_count": 6,
     "metadata": {},
     "output_type": "execute_result"
    }
   ],
   "source": [
    "combined_df.columns"
   ]
  },
  {
   "cell_type": "code",
   "execution_count": 7,
   "id": "c16c9f65",
   "metadata": {
    "scrolled": true
   },
   "outputs": [
    {
     "data": {
      "text/plain": [
       "array([ 1,  2,  3,  6,  7,  4,  5,  9,  8, 16, 10, 12, 15, 11, 13, 19, 14,\n",
       "       18, 17, 24, 20, 22, 30, 39, 25, 21, 29, 23, 26, 28, 27, 31])"
      ]
     },
     "execution_count": 7,
     "metadata": {},
     "output_type": "execute_result"
    }
   ],
   "source": [
    "# 이용건수는 해당 시간대에 성별과 나이대가 동일한 사람이 대여한 건수\n",
    "# 즉 시간대별 이용건수를 합치면 그 시간대에 전체 이용건수 확인 가능\n",
    "combined_df['이용건수'].unique()"
   ]
  },
  {
   "cell_type": "code",
   "execution_count": null,
   "id": "3376ef19",
   "metadata": {},
   "outputs": [],
   "source": [
    "# 필요없는 컬럼 삭제하기\n",
    "cols = ['대여구분코드', '성별', '연령대코드', '운동량', '탄소량', '이동거리(M)', '이용시간(분)']\n",
    "\n",
    "drop_df = combined_df.drop(columns=cols)"
   ]
  },
  {
   "cell_type": "code",
   "execution_count": null,
   "id": "98f6f137",
   "metadata": {},
   "outputs": [],
   "source": [
    "drop_df['이용건수'].unique()"
   ]
  },
  {
   "cell_type": "code",
   "execution_count": 8,
   "id": "eb6e0195",
   "metadata": {},
   "outputs": [],
   "source": [
    "# csv합친 파일을 대여일자, 대여시간, 대여소번호, 대여소명 으로 그룹화 > 이용건수 총합 구하기\n",
    "group = combined_df.groupby(['대여일자', '대여시간', '대여소번호', '대여소명'], as_index=False).agg({'이용건수':'sum'})\n",
    "\n",
    "group.rename(columns={'이용건수' : '총이용건수'}, inplace=True)"
   ]
  },
  {
   "cell_type": "code",
   "execution_count": 10,
   "id": "acd06074",
   "metadata": {},
   "outputs": [],
   "source": [
    "# 따릉이 대여소 마스터 정보 불러오기\n",
    "master_df = pd.read_csv(\"C:/Users/GBOOK/Codeit/초급프로젝트/02_data/03_따릉이/24년/공공자전거_대여소_정보_2024.csv\", encoding='cp949')"
   ]
  },
  {
   "cell_type": "code",
   "execution_count": 11,
   "id": "49ff17e6",
   "metadata": {},
   "outputs": [],
   "source": [
    "# 마스터정보와 그룹화된 데이터 병합\n",
    "merged_df = pd.merge(group, master_df, on='대여소번호', how='inner')"
   ]
  },
  {
   "cell_type": "markdown",
   "id": "f748c62a",
   "metadata": {},
   "source": [
    "### 이용건수 계산"
   ]
  },
  {
   "cell_type": "code",
   "execution_count": 12,
   "id": "64b4930d",
   "metadata": {},
   "outputs": [],
   "source": [
    "# 같은 대여일자와 대여소에서 하루 동안 빌린 총 이용건수 계산\n",
    "daily_total = merged_df.groupby(['대여일자', '대여소번호', '대여소명', '자치구', '거치대수'], as_index=False).agg({'총이용건수': 'sum'})\n",
    "\n",
    "# 열 이름 확인 및 필요시 조정\n",
    "daily_total.rename(columns={'총이용건수': '하루총이용건수'}, inplace=True)"
   ]
  },
  {
   "cell_type": "code",
   "execution_count": 14,
   "id": "27d191c1",
   "metadata": {},
   "outputs": [],
   "source": [
    "daily_total = daily_total[['대여일자', '대여소번호', '대여소명', '자치구', '하루총이용건수', '거치대수']]"
   ]
  },
  {
   "cell_type": "code",
   "execution_count": 15,
   "id": "16b7cbe1",
   "metadata": {},
   "outputs": [],
   "source": [
    "# 강남구.서초구 데이터 추출\n",
    "# 분석할려는 강남구 대여소가 서초구에 인접하여 서초구 데이터도 추출\n",
    "gangnamgu_24 = daily_total[daily_total['자치구'].isin(['강남구', '서초구'])]"
   ]
  },
  {
   "cell_type": "code",
   "execution_count": 16,
   "id": "90dcab07",
   "metadata": {},
   "outputs": [
    {
     "data": {
      "text/html": [
       "<div>\n",
       "<style scoped>\n",
       "    .dataframe tbody tr th:only-of-type {\n",
       "        vertical-align: middle;\n",
       "    }\n",
       "\n",
       "    .dataframe tbody tr th {\n",
       "        vertical-align: top;\n",
       "    }\n",
       "\n",
       "    .dataframe thead th {\n",
       "        text-align: right;\n",
       "    }\n",
       "</style>\n",
       "<table border=\"1\" class=\"dataframe\">\n",
       "  <thead>\n",
       "    <tr style=\"text-align: right;\">\n",
       "      <th></th>\n",
       "      <th>대여일자</th>\n",
       "      <th>대여소번호</th>\n",
       "      <th>대여소명</th>\n",
       "      <th>자치구</th>\n",
       "      <th>하루총이용건수</th>\n",
       "      <th>거치대수</th>\n",
       "    </tr>\n",
       "  </thead>\n",
       "  <tbody>\n",
       "    <tr>\n",
       "      <th>1392</th>\n",
       "      <td>2024-01-01</td>\n",
       "      <td>2201</td>\n",
       "      <td>2201. 본마을 정류소 앞</td>\n",
       "      <td>서초구</td>\n",
       "      <td>1</td>\n",
       "      <td>14</td>\n",
       "    </tr>\n",
       "    <tr>\n",
       "      <th>1393</th>\n",
       "      <td>2024-01-01</td>\n",
       "      <td>2202</td>\n",
       "      <td>2202.청계산입구역 1번출구</td>\n",
       "      <td>서초구</td>\n",
       "      <td>12</td>\n",
       "      <td>20</td>\n",
       "    </tr>\n",
       "    <tr>\n",
       "      <th>1394</th>\n",
       "      <td>2024-01-01</td>\n",
       "      <td>2203</td>\n",
       "      <td>2203. 청계산입구역 2번출구</td>\n",
       "      <td>서초구</td>\n",
       "      <td>7</td>\n",
       "      <td>10</td>\n",
       "    </tr>\n",
       "  </tbody>\n",
       "</table>\n",
       "</div>"
      ],
      "text/plain": [
       "            대여일자  대여소번호               대여소명  자치구  하루총이용건수  거치대수\n",
       "1392  2024-01-01   2201    2201. 본마을 정류소 앞  서초구        1    14\n",
       "1393  2024-01-01   2202   2202.청계산입구역 1번출구  서초구       12    20\n",
       "1394  2024-01-01   2203  2203. 청계산입구역 2번출구  서초구        7    10"
      ]
     },
     "execution_count": 16,
     "metadata": {},
     "output_type": "execute_result"
    }
   ],
   "source": [
    "gangnamgu_24.head(3)"
   ]
  },
  {
   "cell_type": "code",
   "execution_count": 17,
   "id": "4979cdfe",
   "metadata": {},
   "outputs": [],
   "source": [
    "# 서대문구 데이터 추출\n",
    "seodaemungu_24 = daily_total[daily_total['자치구'].isin(['서대문구'])]"
   ]
  },
  {
   "cell_type": "code",
   "execution_count": 19,
   "id": "9389f2f8",
   "metadata": {},
   "outputs": [
    {
     "data": {
      "text/html": [
       "<div>\n",
       "<style scoped>\n",
       "    .dataframe tbody tr th:only-of-type {\n",
       "        vertical-align: middle;\n",
       "    }\n",
       "\n",
       "    .dataframe tbody tr th {\n",
       "        vertical-align: top;\n",
       "    }\n",
       "\n",
       "    .dataframe thead th {\n",
       "        text-align: right;\n",
       "    }\n",
       "</style>\n",
       "<table border=\"1\" class=\"dataframe\">\n",
       "  <thead>\n",
       "    <tr style=\"text-align: right;\">\n",
       "      <th></th>\n",
       "      <th>대여일자</th>\n",
       "      <th>대여소번호</th>\n",
       "      <th>대여소명</th>\n",
       "      <th>자치구</th>\n",
       "      <th>하루총이용건수</th>\n",
       "      <th>거치대수</th>\n",
       "    </tr>\n",
       "  </thead>\n",
       "  <tbody>\n",
       "    <tr>\n",
       "      <th>10</th>\n",
       "      <td>2024-01-01</td>\n",
       "      <td>115</td>\n",
       "      <td>115. 마스타 빌딩 앞</td>\n",
       "      <td>서대문구</td>\n",
       "      <td>19</td>\n",
       "      <td>15</td>\n",
       "    </tr>\n",
       "    <tr>\n",
       "      <th>11</th>\n",
       "      <td>2024-01-01</td>\n",
       "      <td>117</td>\n",
       "      <td>117. 홍은사거리</td>\n",
       "      <td>서대문구</td>\n",
       "      <td>34</td>\n",
       "      <td>23</td>\n",
       "    </tr>\n",
       "    <tr>\n",
       "      <th>17</th>\n",
       "      <td>2024-01-01</td>\n",
       "      <td>123</td>\n",
       "      <td>123. 문화촌 공원</td>\n",
       "      <td>서대문구</td>\n",
       "      <td>36</td>\n",
       "      <td>20</td>\n",
       "    </tr>\n",
       "  </tbody>\n",
       "</table>\n",
       "</div>"
      ],
      "text/plain": [
       "          대여일자  대여소번호           대여소명   자치구  하루총이용건수  거치대수\n",
       "10  2024-01-01    115  115. 마스타 빌딩 앞  서대문구       19    15\n",
       "11  2024-01-01    117     117. 홍은사거리  서대문구       34    23\n",
       "17  2024-01-01    123    123. 문화촌 공원  서대문구       36    20"
      ]
     },
     "execution_count": 19,
     "metadata": {},
     "output_type": "execute_result"
    }
   ],
   "source": [
    "seodaemungu_24.head(3)"
   ]
  },
  {
   "cell_type": "code",
   "execution_count": 20,
   "id": "cab099d1",
   "metadata": {},
   "outputs": [],
   "source": [
    "# 중구 데이터 추출\n",
    "junggu_24 = daily_total[daily_total['자치구'].isin(['중구'])]"
   ]
  },
  {
   "cell_type": "code",
   "execution_count": 21,
   "id": "3acaadf1",
   "metadata": {},
   "outputs": [
    {
     "data": {
      "text/html": [
       "<div>\n",
       "<style scoped>\n",
       "    .dataframe tbody tr th:only-of-type {\n",
       "        vertical-align: middle;\n",
       "    }\n",
       "\n",
       "    .dataframe tbody tr th {\n",
       "        vertical-align: top;\n",
       "    }\n",
       "\n",
       "    .dataframe thead th {\n",
       "        text-align: right;\n",
       "    }\n",
       "</style>\n",
       "<table border=\"1\" class=\"dataframe\">\n",
       "  <thead>\n",
       "    <tr style=\"text-align: right;\">\n",
       "      <th></th>\n",
       "      <th>대여일자</th>\n",
       "      <th>대여소번호</th>\n",
       "      <th>대여소명</th>\n",
       "      <th>자치구</th>\n",
       "      <th>하루총이용건수</th>\n",
       "      <th>거치대수</th>\n",
       "    </tr>\n",
       "  </thead>\n",
       "  <tbody>\n",
       "    <tr>\n",
       "      <th>162</th>\n",
       "      <td>2024-01-01</td>\n",
       "      <td>300</td>\n",
       "      <td>300. 정동사거리</td>\n",
       "      <td>중구</td>\n",
       "      <td>14</td>\n",
       "      <td>6</td>\n",
       "    </tr>\n",
       "    <tr>\n",
       "      <th>170</th>\n",
       "      <td>2024-01-01</td>\n",
       "      <td>310</td>\n",
       "      <td>310. 청계광장 옆</td>\n",
       "      <td>중구</td>\n",
       "      <td>7</td>\n",
       "      <td>8</td>\n",
       "    </tr>\n",
       "    <tr>\n",
       "      <th>173</th>\n",
       "      <td>2024-01-01</td>\n",
       "      <td>318</td>\n",
       "      <td>318. 광교사거리 남측</td>\n",
       "      <td>중구</td>\n",
       "      <td>4</td>\n",
       "      <td>10</td>\n",
       "    </tr>\n",
       "  </tbody>\n",
       "</table>\n",
       "</div>"
      ],
      "text/plain": [
       "           대여일자  대여소번호           대여소명 자치구  하루총이용건수  거치대수\n",
       "162  2024-01-01    300     300. 정동사거리  중구       14     6\n",
       "170  2024-01-01    310    310. 청계광장 옆  중구        7     8\n",
       "173  2024-01-01    318  318. 광교사거리 남측  중구        4    10"
      ]
     },
     "execution_count": 21,
     "metadata": {},
     "output_type": "execute_result"
    }
   ],
   "source": [
    "junggu_24.head(3)"
   ]
  },
  {
   "cell_type": "markdown",
   "id": "f74d16d9",
   "metadata": {},
   "source": [
    "### 월별로 대여소별 하루총이용건수 합"
   ]
  },
  {
   "cell_type": "code",
   "execution_count": 22,
   "id": "300391c3",
   "metadata": {
    "scrolled": true
   },
   "outputs": [],
   "source": [
    "# 대여일자 데이터 타입을 데이트타임으로 변경\n",
    "gangnamgu_24['대여일자'] = pd.to_datetime(gangnamgu_24['대여일자'])\n",
    "\n",
    "# 월 단위 대여월 컬럼 생성\n",
    "gangnamgu_24['대여월'] = gangnamgu_24['대여일자'].dt.to_period(\"M\")"
   ]
  },
  {
   "cell_type": "code",
   "execution_count": 23,
   "id": "7d0881fb",
   "metadata": {},
   "outputs": [],
   "source": [
    "# 대여일자 type 확인\n",
    "seodaemungu_24['대여일자'] = pd.to_datetime(seodaemungu_24['대여일자'])\n",
    "\n",
    "# 월 단위 대여월 컬럼 생성\n",
    "seodaemungu_24['대여월'] = seodaemungu_24['대여일자'].dt.to_period(\"M\")"
   ]
  },
  {
   "cell_type": "code",
   "execution_count": 24,
   "id": "5a090453",
   "metadata": {},
   "outputs": [],
   "source": [
    "# 대여일자 type 확인\n",
    "junggu_24['대여일자'] = pd.to_datetime(junggu_24['대여일자'])\n",
    "\n",
    "# 월 단위 대여월 컬럼 생성\n",
    "junggu_24['대여월'] = junggu_24['대여일자'].dt.to_period(\"M\")"
   ]
  },
  {
   "cell_type": "code",
   "execution_count": 25,
   "id": "f1a22df4",
   "metadata": {},
   "outputs": [],
   "source": [
    "# 대여소별, 대여월별 하루총이용건수 합계 계산\n",
    "gangnamgu_month = gangnamgu_24.groupby(['대여월', '대여소명', '대여소번호', '거치대수'])['하루총이용건수'].sum().reset_index()\n",
    "gangnamgu_month.rename(columns={'하루총이용건수': '월별총이용건수'}, inplace=True)\n",
    "\n",
    "# 대여월을 보기 좋게 변환\n",
    "gangnamgu_month['대여월'] = gangnamgu_month['대여월'].dt.strftime('%Y-%m')"
   ]
  },
  {
   "cell_type": "code",
   "execution_count": 26,
   "id": "9f4bb901",
   "metadata": {},
   "outputs": [],
   "source": [
    "# 대여소별, 대여월별 하루총이용건수 합계 계산\n",
    "seodaemungu_month = seodaemungu_24.groupby(['대여월', '대여소명', '대여소번호', '거치대수'])['하루총이용건수'].sum().reset_index()\n",
    "seodaemungu_month.rename(columns={'하루총이용건수': '월별총이용건수'}, inplace=True)\n",
    "\n",
    "# 대여월을 보기 좋게 변환\n",
    "seodaemungu_month['대여월'] = seodaemungu_month['대여월'].dt.strftime('%Y-%m')"
   ]
  },
  {
   "cell_type": "code",
   "execution_count": 27,
   "id": "4b711140",
   "metadata": {},
   "outputs": [],
   "source": [
    "# 대여소별, 대여월별 하루총이용건수 합계 계산\n",
    "junggu_month = junggu_24.groupby(['대여월', '대여소명', '대여소번호', '거치대수'])['하루총이용건수'].sum().reset_index()\n",
    "junggu_month.rename(columns={'하루총이용건수': '월별총이용건수'}, inplace=True)\n",
    "\n",
    "# 대여월을 보기 좋게 변환\n",
    "junggu_month['대여월'] = junggu_month['대여월'].dt.strftime('%Y-%m')"
   ]
  },
  {
   "cell_type": "markdown",
   "id": "4650cea3",
   "metadata": {},
   "source": [
    "### 월별 대여소의 평균 사용지수 생성\n",
    "월별총이용건수/거치대수"
   ]
  },
  {
   "cell_type": "code",
   "execution_count": 28,
   "id": "8ab70f92",
   "metadata": {},
   "outputs": [],
   "source": [
    "# 중구 월별 사용지수\n",
    "junggu_month['월별사용지수'] = junggu_month['월별총이용건수'] / junggu_month['거치대수']\n",
    "\n",
    "junggu_month['월별사용지수'] = junggu_month['월별사용지수'].round(1)"
   ]
  },
  {
   "cell_type": "code",
   "execution_count": 33,
   "id": "3b9f664c",
   "metadata": {},
   "outputs": [
    {
     "data": {
      "text/html": [
       "<div>\n",
       "<style scoped>\n",
       "    .dataframe tbody tr th:only-of-type {\n",
       "        vertical-align: middle;\n",
       "    }\n",
       "\n",
       "    .dataframe tbody tr th {\n",
       "        vertical-align: top;\n",
       "    }\n",
       "\n",
       "    .dataframe thead th {\n",
       "        text-align: right;\n",
       "    }\n",
       "</style>\n",
       "<table border=\"1\" class=\"dataframe\">\n",
       "  <thead>\n",
       "    <tr style=\"text-align: right;\">\n",
       "      <th></th>\n",
       "      <th>대여월</th>\n",
       "      <th>대여소명</th>\n",
       "      <th>대여소번호</th>\n",
       "      <th>거치대수</th>\n",
       "      <th>월별총이용건수</th>\n",
       "      <th>월별사용지수</th>\n",
       "    </tr>\n",
       "  </thead>\n",
       "  <tbody>\n",
       "    <tr>\n",
       "      <th>0</th>\n",
       "      <td>2024-01</td>\n",
       "      <td>300. 정동사거리</td>\n",
       "      <td>300</td>\n",
       "      <td>6</td>\n",
       "      <td>703</td>\n",
       "      <td>117.2</td>\n",
       "    </tr>\n",
       "    <tr>\n",
       "      <th>1</th>\n",
       "      <td>2024-01</td>\n",
       "      <td>3013.서울지방고용노동청 앞</td>\n",
       "      <td>3013</td>\n",
       "      <td>10</td>\n",
       "      <td>862</td>\n",
       "      <td>86.2</td>\n",
       "    </tr>\n",
       "  </tbody>\n",
       "</table>\n",
       "</div>"
      ],
      "text/plain": [
       "       대여월              대여소명  대여소번호  거치대수  월별총이용건수  월별사용지수\n",
       "0  2024-01        300. 정동사거리    300     6      703   117.2\n",
       "1  2024-01  3013.서울지방고용노동청 앞   3013    10      862    86.2"
      ]
     },
     "execution_count": 33,
     "metadata": {},
     "output_type": "execute_result"
    }
   ],
   "source": [
    "junggu_month.head(2)"
   ]
  },
  {
   "cell_type": "code",
   "execution_count": 29,
   "id": "a5dda5fc",
   "metadata": {},
   "outputs": [],
   "source": [
    "# 서대문구 월별 사용지수\n",
    "seodaemungu_month['월별사용지수'] = seodaemungu_month['월별총이용건수'] / seodaemungu_month['거치대수']\n",
    "\n",
    "seodaemungu_month['월별사용지수'] = seodaemungu_month['월별사용지수'].round(1)"
   ]
  },
  {
   "cell_type": "code",
   "execution_count": 32,
   "id": "ca3157f5",
   "metadata": {},
   "outputs": [
    {
     "data": {
      "text/html": [
       "<div>\n",
       "<style scoped>\n",
       "    .dataframe tbody tr th:only-of-type {\n",
       "        vertical-align: middle;\n",
       "    }\n",
       "\n",
       "    .dataframe tbody tr th {\n",
       "        vertical-align: top;\n",
       "    }\n",
       "\n",
       "    .dataframe thead th {\n",
       "        text-align: right;\n",
       "    }\n",
       "</style>\n",
       "<table border=\"1\" class=\"dataframe\">\n",
       "  <thead>\n",
       "    <tr style=\"text-align: right;\">\n",
       "      <th></th>\n",
       "      <th>대여월</th>\n",
       "      <th>대여소명</th>\n",
       "      <th>대여소번호</th>\n",
       "      <th>거치대수</th>\n",
       "      <th>월별총이용건수</th>\n",
       "      <th>월별사용지수</th>\n",
       "    </tr>\n",
       "  </thead>\n",
       "  <tbody>\n",
       "    <tr>\n",
       "      <th>0</th>\n",
       "      <td>2024-01</td>\n",
       "      <td>115. 마스타 빌딩 앞</td>\n",
       "      <td>115</td>\n",
       "      <td>15</td>\n",
       "      <td>524</td>\n",
       "      <td>34.9</td>\n",
       "    </tr>\n",
       "    <tr>\n",
       "      <th>1</th>\n",
       "      <td>2024-01</td>\n",
       "      <td>117. 홍은사거리</td>\n",
       "      <td>117</td>\n",
       "      <td>23</td>\n",
       "      <td>1214</td>\n",
       "      <td>52.8</td>\n",
       "    </tr>\n",
       "  </tbody>\n",
       "</table>\n",
       "</div>"
      ],
      "text/plain": [
       "       대여월           대여소명  대여소번호  거치대수  월별총이용건수  월별사용지수\n",
       "0  2024-01  115. 마스타 빌딩 앞    115    15      524    34.9\n",
       "1  2024-01     117. 홍은사거리    117    23     1214    52.8"
      ]
     },
     "execution_count": 32,
     "metadata": {},
     "output_type": "execute_result"
    }
   ],
   "source": [
    "seodaemungu_month.head(2)"
   ]
  },
  {
   "cell_type": "code",
   "execution_count": 30,
   "id": "a0f83504",
   "metadata": {},
   "outputs": [],
   "source": [
    "# 강남구 월별 사용지수\n",
    "gangnamgu_month['월별사용지수'] = gangnamgu_month['월별총이용건수'] / gangnamgu_month['거치대수']\n",
    "\n",
    "gangnamgu_month['월별사용지수'] = gangnamgu_month['월별사용지수'].round(1)"
   ]
  },
  {
   "cell_type": "code",
   "execution_count": 34,
   "id": "816e4b63",
   "metadata": {},
   "outputs": [
    {
     "data": {
      "text/html": [
       "<div>\n",
       "<style scoped>\n",
       "    .dataframe tbody tr th:only-of-type {\n",
       "        vertical-align: middle;\n",
       "    }\n",
       "\n",
       "    .dataframe tbody tr th {\n",
       "        vertical-align: top;\n",
       "    }\n",
       "\n",
       "    .dataframe thead th {\n",
       "        text-align: right;\n",
       "    }\n",
       "</style>\n",
       "<table border=\"1\" class=\"dataframe\">\n",
       "  <thead>\n",
       "    <tr style=\"text-align: right;\">\n",
       "      <th></th>\n",
       "      <th>대여월</th>\n",
       "      <th>대여소명</th>\n",
       "      <th>대여소번호</th>\n",
       "      <th>거치대수</th>\n",
       "      <th>월별총이용건수</th>\n",
       "      <th>월별사용지수</th>\n",
       "    </tr>\n",
       "  </thead>\n",
       "  <tbody>\n",
       "    <tr>\n",
       "      <th>0</th>\n",
       "      <td>2024-01</td>\n",
       "      <td>2201. 본마을 정류소 앞</td>\n",
       "      <td>2201</td>\n",
       "      <td>14</td>\n",
       "      <td>38</td>\n",
       "      <td>2.7</td>\n",
       "    </tr>\n",
       "    <tr>\n",
       "      <th>1</th>\n",
       "      <td>2024-01</td>\n",
       "      <td>2202.청계산입구역 1번출구</td>\n",
       "      <td>2202</td>\n",
       "      <td>20</td>\n",
       "      <td>903</td>\n",
       "      <td>45.2</td>\n",
       "    </tr>\n",
       "  </tbody>\n",
       "</table>\n",
       "</div>"
      ],
      "text/plain": [
       "       대여월              대여소명  대여소번호  거치대수  월별총이용건수  월별사용지수\n",
       "0  2024-01   2201. 본마을 정류소 앞   2201    14       38     2.7\n",
       "1  2024-01  2202.청계산입구역 1번출구   2202    20      903    45.2"
      ]
     },
     "execution_count": 34,
     "metadata": {},
     "output_type": "execute_result"
    }
   ],
   "source": [
    "gangnamgu_month.head(2)"
   ]
  },
  {
   "cell_type": "markdown",
   "id": "62ca9ff6",
   "metadata": {},
   "source": [
    "### csv 파일 저장"
   ]
  },
  {
   "cell_type": "code",
   "execution_count": null,
   "id": "81053dcb",
   "metadata": {},
   "outputs": [],
   "source": [
    "junggu_month.to_csv(\"2024_중구_월별사용지수.csv\",  encoding='cp949')"
   ]
  },
  {
   "cell_type": "code",
   "execution_count": null,
   "id": "6695959a",
   "metadata": {},
   "outputs": [],
   "source": [
    "seodaemungu_month.to_csv(\"2024_서대문구_월별사용지수.csv\",  encoding='cp949')"
   ]
  },
  {
   "cell_type": "code",
   "execution_count": null,
   "id": "b91cb745",
   "metadata": {},
   "outputs": [],
   "source": [
    "gangnamgu_month.to_csv(\"2024_강남구_월별사용지수.csv\",  encoding='cp949')"
   ]
  }
 ],
 "metadata": {
  "kernelspec": {
   "display_name": "Python 3 (ipykernel)",
   "language": "python",
   "name": "python3"
  },
  "language_info": {
   "codemirror_mode": {
    "name": "ipython",
    "version": 3
   },
   "file_extension": ".py",
   "mimetype": "text/x-python",
   "name": "python",
   "nbconvert_exporter": "python",
   "pygments_lexer": "ipython3",
   "version": "3.12.7"
  }
 },
 "nbformat": 4,
 "nbformat_minor": 5
}
