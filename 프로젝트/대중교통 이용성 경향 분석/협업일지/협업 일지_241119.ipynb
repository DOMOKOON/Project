{
 "cells": [
  {
   "cell_type": "markdown",
   "metadata": {},
   "source": [
    "### 협업일지\n",
    "#### 일자 : 2024-11-19 / 박하진"
   ]
  },
  {
   "cell_type": "markdown",
   "metadata": {},
   "source": [
    "#### 오늘 할 일\n",
    "- 따릉이 관련 데이터 수집하기\n",
    "-\n",
    "-"
   ]
  },
  {
   "cell_type": "markdown",
   "metadata": {},
   "source": [
    "#### 오늘 한 일\n",
    "- 따릉이와 지하철 환승 관련 공공데이터 url 찾고 노션에 공유하기\n",
    "- 주제를 좀 더 날카롭게 구체적으로 잡기\n",
    "- 주제와 관련된 실제 불편한 사례 공유하기\n",
    "- 주제에 맞는 분석을 위해 사용할 데이터 선별하기\n",
    "- 월 별 데이터 통합하기"
   ]
  },
  {
   "cell_type": "markdown",
   "metadata": {},
   "source": [
    "#### 내일 할 일\n",
    "-\n",
    "-\n",
    "-"
   ]
  },
  {
   "cell_type": "markdown",
   "metadata": {},
   "source": [
    "#### Codes"
   ]
  },
  {
   "cell_type": "code",
   "execution_count": null,
   "metadata": {},
   "outputs": [],
   "source": [
    "import pandas as pd\n",
    "\n",
    "df = pd.read_csv(\"../data/DATA.csv\", encoding='euc-kr')\n",
    "\n",
    "# 1월부터 5월까지 데이터를 필터링하고 월별 대여건수 합계를 계산\n",
    "monthly_totals = df[(df['자치구'] == '중랑구') & (df['기준년월'].between(202401, 202405))] \\\n",
    "    .groupby('기준년월')['대여건수'].sum()\n",
    "\n",
    "print(monthly_totals)"
   ]
  },
  {
   "cell_type": "code",
   "execution_count": null,
   "metadata": {},
   "outputs": [],
   "source": [
    "import pandas as pd\n",
    "\n",
    "df = pd.read_csv(\"../data/DATA2.csv\", encoding='euc-kr')\n",
    "df\n",
    "\n",
    "# 1월부터 5월까지 데이터를 필터링하고 월별 대여건수 합계를 계산\n",
    "monthly_totals = df[(df['자치구'] == '강북구') & (df['기준년월'].between(202307, 202312))] \\\n",
    "    .groupby('기준년월')['대여건수'].sum()\n",
    "\n",
    "print(monthly_totals)"
   ]
  },
  {
   "cell_type": "code",
   "execution_count": null,
   "metadata": {},
   "outputs": [],
   "source": [
    "import pandas as pd\n",
    "\n",
    "df = pd.read_csv(\"../data/DATA2.csv\", encoding='euc-kr')\n",
    "df\n",
    "\n",
    "# 자치구 리스트 정의\n",
    "districts = [\n",
    "    '강남구', '강동구', '강북구', '강서구', '관악구', '광진구', '구로구', '금천구', '노원구', \n",
    "    '도봉구', '동대문구', '동작구', '마포구', '서대문구', '서초구', '성동구', '성북구', \n",
    "    '송파구', '양천구', '영등포구', '용산구', '은평구', '종로구', '중구', '중랑구'\n",
    "]\n",
    "\n",
    "# 필터링 후 자치구와 기준년월 기준으로 그룹화하여 합산\n",
    "total_by_district_month = df[(df['자치구'].isin(districts)) & (df['기준년월'].between(202307, 202312))] \\\n",
    "    .groupby(['자치구', '기준년월'])['대여건수'].sum().reset_index()\n",
    "\n",
    "print(total_by_district_month)\n",
    "\n",
    "# CSV 파일로 저장\n",
    "total_by_district_month.to_csv('자치구별_월별_대여건수.csv', index=False, encoding='utf-8-sig')"
   ]
  },
  {
   "cell_type": "code",
   "execution_count": null,
   "metadata": {},
   "outputs": [],
   "source": [
    "# 피벗 테이블 생성: 기준년월이 행, 자치구가 열\n",
    "pivot_table_transposed = total_by_district_month.pivot(index='기준년월', columns='자치구', values='대여건수').fillna(0)\n",
    "\n",
    "# CSV 파일로 저장\n",
    "pivot_table_transposed.to_csv('월별_자치구별_대여건수.csv', encoding='utf-8-sig')"
   ]
  },
  {
   "cell_type": "markdown",
   "metadata": {},
   "source": [
    "#### Issues & Challenges\n",
    "- 주제를 너무 러프하게 잡아서 수집한 데이터들 중 어떤 데이터를 사용해야 하는지 어려움을 겪었습니다.\n",
    "-\n",
    "-"
   ]
  },
  {
   "cell_type": "markdown",
   "metadata": {},
   "source": [
    "#### Reflection\n",
    "- 그동안 배워왔던 함수를 직접 사용하여 작업을 수행할 수 있어서 좋았습니다.\n",
    "-\n",
    "-"
   ]
  }
 ],
 "metadata": {
  "language_info": {
   "name": "python"
  }
 },
 "nbformat": 4,
 "nbformat_minor": 2
}
