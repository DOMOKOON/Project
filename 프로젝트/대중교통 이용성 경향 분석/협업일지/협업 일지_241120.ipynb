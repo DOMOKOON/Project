{
 "cells": [
  {
   "cell_type": "markdown",
   "metadata": {},
   "source": [
    "### 협업일지\n",
    "#### 일자 : 2024-11-20 / 박하진"
   ]
  },
  {
   "cell_type": "markdown",
   "metadata": {},
   "source": [
    "#### 오늘 할 일\n",
    "- 데이터 정제 계속 하기\n",
    "- 각자 정제한 데이터 종합한 후 EDA하기\n",
    "-"
   ]
  },
  {
   "cell_type": "markdown",
   "metadata": {},
   "source": [
    "#### 오늘 한 일\n",
    "- 데이터 계속 정제하기 (공공자전거 자치구별 대여건수)\n",
    "- 희의하면서 그동안 각자 모았던 데이터 중 쓸 데이터와 쓰지 않을 데이터 구분하여 처리하기\n",
    "-"
   ]
  },
  {
   "cell_type": "markdown",
   "metadata": {},
   "source": [
    "#### 내일 할 일\n",
    "- 따릉이 불균형 장소를 찾고 그에 대한 원인이 되는 요인 찾기\n",
    "-\n",
    "-"
   ]
  },
  {
   "cell_type": "markdown",
   "metadata": {},
   "source": [
    "#### Codes"
   ]
  },
  {
   "cell_type": "markdown",
   "metadata": {},
   "source": [
    "#### Issues & Challenges\n",
    "-\n",
    "-\n",
    "-"
   ]
  },
  {
   "cell_type": "markdown",
   "metadata": {},
   "source": [
    "#### Reflection\n",
    "- 희의를 통해 제가 만든 데이터가 가장 깔끔하다는 평을 받아서 기분이 굉장히 좋았습니다.\n",
    "-"
   ]
  }
 ],
 "metadata": {
  "language_info": {
   "name": "python"
  }
 },
 "nbformat": 4,
 "nbformat_minor": 2
}
