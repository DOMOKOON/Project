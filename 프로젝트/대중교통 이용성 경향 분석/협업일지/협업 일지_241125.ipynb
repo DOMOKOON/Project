{
 "cells": [
  {
   "cell_type": "markdown",
   "metadata": {},
   "source": [
    "### 협업일지\n",
    "#### 일자 : 2024-11-25 / 박하진"
   ]
  },
  {
   "cell_type": "markdown",
   "metadata": {},
   "source": [
    "#### 오늘 할 일\n",
    "- 9호선 지하철 혼잡도 일반과 급행 나눠서 다시 시각화하기\n",
    "-\n",
    "-"
   ]
  },
  {
   "cell_type": "markdown",
   "metadata": {},
   "source": [
    "#### 오늘 한 일\n",
    "- 9호선 지하철 혼잡도 일반과 급행 나눠서 다시 시각화하기\n",
    "- 지하철 혼잡도 csv파일에 자치구 컬럼을 넣기 위해 필요 데이터를 수집,가공 후 병합하는 과정 진행 and 시각화\n",
    "-"
   ]
  },
  {
   "cell_type": "markdown",
   "metadata": {},
   "source": [
    "#### 내일 할 일\n",
    "-\n",
    "-\n",
    "-"
   ]
  },
  {
   "cell_type": "markdown",
   "metadata": {},
   "source": [
    "#### Codes"
   ]
  },
  {
   "cell_type": "markdown",
   "metadata": {},
   "source": [
    "#### Issues & Challenges\n",
    "- 상세주소가 빈값이 많아 일일히 찾아서 넣는 수작업이 조금 힘들었습니다.\n",
    "-\n",
    "-"
   ]
  },
  {
   "cell_type": "markdown",
   "metadata": {},
   "source": [
    "#### Reflection\n",
    "-\n",
    "-\n",
    "-"
   ]
  }
 ],
 "metadata": {
  "language_info": {
   "name": "python"
  }
 },
 "nbformat": 4,
 "nbformat_minor": 2
}
