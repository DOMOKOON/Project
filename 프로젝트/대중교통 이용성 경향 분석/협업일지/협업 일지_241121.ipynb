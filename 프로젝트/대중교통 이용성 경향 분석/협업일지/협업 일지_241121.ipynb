{
 "cells": [
  {
   "cell_type": "markdown",
   "metadata": {},
   "source": [
    "### 협업일지\n",
    "#### 일자 : 2024-11-21 / 박하진"
   ]
  },
  {
   "cell_type": "markdown",
   "metadata": {},
   "source": [
    "#### 오늘 할 일\n",
    "-\n",
    "-\n",
    "-"
   ]
  },
  {
   "cell_type": "markdown",
   "metadata": {},
   "source": [
    "#### 오늘 한 일\n",
    "- 레퍼런스에서 사용한 데이터 형태로 데이터를 수집하고 가공\n",
    "- 수집, 가공한 데이터를 바탕으로 따릉이 이용형태 EDA하기\n",
    "- "
   ]
  },
  {
   "cell_type": "markdown",
   "metadata": {},
   "source": [
    "#### 내일 할 일\n",
    "-\n",
    "-\n",
    "-"
   ]
  },
  {
   "cell_type": "markdown",
   "metadata": {},
   "source": [
    "#### Codes"
   ]
  },
  {
   "cell_type": "code",
   "execution_count": null,
   "metadata": {},
   "outputs": [],
   "source": [
    "import pandas as pd\n",
    "\n",
    "df = pd.read_csv(\"../data/DATA1.csv\", encoding='euc-kr')\n",
    "df\n",
    "\n",
    "monthly_totals = df[(df['자치구'] == '중랑구') & (df['기준년월'].between(202401, 202405))] \\\n",
    "    .groupby('기준년월')['대여건수'].sum()\n",
    "\n",
    "print(monthly_totals)"
   ]
  },
  {
   "cell_type": "code",
   "execution_count": null,
   "metadata": {},
   "outputs": [],
   "source": [
    "import pandas as pd\n",
    "\n",
    "df = pd.read_csv(\"../data/DATA2.csv\", encoding='euc-kr')\n",
    "df\n",
    "\n",
    "monthly_totals = df[(df['자치구'] == '강북구') & (df['기준년월'].between(202307, 202312))] \\\n",
    "    .groupby('기준년월')['대여건수'].sum()\n",
    "\n",
    "print(monthly_totals)"
   ]
  },
  {
   "cell_type": "code",
   "execution_count": null,
   "metadata": {},
   "outputs": [],
   "source": [
    "import pandas as pd\n",
    "\n",
    "df = pd.read_csv(\"../data/DATA2.csv\", encoding='euc-kr')\n",
    "df\n",
    "\n",
    "# 자치구 리스트 정의\n",
    "districts = [\n",
    "    '강남구', '강동구', '강북구', '강서구', '관악구', '광진구', '구로구', '금천구', '노원구', \n",
    "    '도봉구', '동대문구', '동작구', '마포구', '서대문구', '서초구', '성동구', '성북구', \n",
    "    '송파구', '양천구', '영등포구', '용산구', '은평구', '종로구', '중구', '중랑구'\n",
    "]\n",
    "\n",
    "# 필터링 후 자치구와 기준년월 기준으로 그룹화하여 합산\n",
    "total_by_district_month = df[(df['자치구'].isin(districts)) & (df['기준년월'].between(202307, 202312))] \\\n",
    "    .groupby(['자치구', '기준년월'])['대여건수'].sum().reset_index()\n",
    "\n",
    "print(total_by_district_month)\n",
    "\n",
    "# CSV 파일로 저장\n",
    "total_by_district_month.to_csv('자치구별_월별_대여건수.csv', index=False, encoding='utf-8-sig')"
   ]
  },
  {
   "cell_type": "code",
   "execution_count": null,
   "metadata": {},
   "outputs": [],
   "source": [
    "# 피벗 테이블 생성: 기준년월이 행, 자치구가 열\n",
    "pivot_table_transposed = total_by_district_month.pivot(index='기준년월', columns='자치구', values='대여건수').fillna(0)\n",
    "\n",
    "# CSV 파일로 저장\n",
    "pivot_table_transposed.to_csv('월별_자치구별_대여건수.csv', encoding='utf-8-sig')"
   ]
  },
  {
   "cell_type": "code",
   "execution_count": null,
   "metadata": {},
   "outputs": [],
   "source": [
    "import pandas as pd\n",
    "\n",
    "bike_info = pd.read_csv(\"../data/공공자전거 대여소 정보(23.12월 기준).csv\", encoding='euc-kr')\n",
    "bike_info\n",
    "\n",
    "bike_info.to_csv('bike_info.csv',index=False)"
   ]
  },
  {
   "cell_type": "code",
   "execution_count": null,
   "metadata": {},
   "outputs": [],
   "source": [
    "import pandas as pd\n",
    "\n",
    "bike_stat23_0106 = pd.read_csv(\"../data/서울특별시 공공자전거 대여소별 이용정보(월별)_23.1-6.csv\", encoding='cp949')\n",
    "\n",
    "# 대여소번호 추출 및 대여소명 수정\n",
    "bike_stat23_0106['대여소번호'] = bike_stat23_0106['대여소명'].str.extract(r'^(\\d+)\\.').astype(int)  \n",
    "bike_stat23_0106['대여소명'] = bike_stat23_0106['대여소명'].str.replace(r'^\\d+\\.\\s*', '', regex=True)  \n",
    "\n",
    "cols = bike_stat23_0106.columns.tolist()\n",
    "cols.insert(1, cols.pop(cols.index('대여소번호'))) \n",
    "bike_stat23_0106 = bike_stat23_0106[cols]\n",
    "\n",
    "bike_stat23_0106.to_csv('bike_stat23_0106.csv', index=False)\n",
    "bike_stat23_0106"
   ]
  },
  {
   "cell_type": "code",
   "execution_count": null,
   "metadata": {},
   "outputs": [],
   "source": [
    "import pandas as pd\n",
    "\n",
    "bike_stat23_0712 = pd.read_csv(\"../data/서울특별시 공공자전거 대여소별 이용정보(월별)_23.7-12.csv\", encoding='cp949')\n",
    "\n",
    "\n",
    "bike_stat23_0712['대여소번호'] = bike_stat23_0712['대여소명'].str.extract(r'^(\\d+)\\.')  # 번호 추출\n",
    "bike_stat23_0712 = bike_stat23_0712.dropna(subset=['대여소번호'])  # 대여소번호가 없는 행 제거\n",
    "bike_stat23_0712['대여소번호'] = bike_stat23_0712['대여소번호'].astype(int)  # 정수형 변환\n",
    "\n",
    "bike_stat23_0712['대여소명'] = bike_stat23_0712['대여소명'].str.replace(r'^\\d+\\.\\s*', '', regex=True)  # 대여소번호와 점 제거\n",
    "\n",
    "\n",
    "cols = bike_stat23_0712.columns.tolist()\n",
    "cols.insert(1, cols.pop(cols.index('대여소번호')))  # '대여소번호'를 두 번째 위치로 이동\n",
    "bike_stat23_0712 = bike_stat23_0712[cols]\n",
    "\n",
    "bike_stat23_0712.to_csv('bike_stat23_0712.csv', index=False)\n",
    "bike_stat23_0712"
   ]
  },
  {
   "cell_type": "code",
   "execution_count": null,
   "metadata": {},
   "outputs": [],
   "source": [
    "import pandas as pd\n",
    "\n",
    "# 두 데이터프레임을 아래로 이어붙이기\n",
    "bike_stat23 = pd.concat([bike_stat23_0106, bike_stat23_0712], ignore_index=True)\n",
    "\n",
    "bike_stat23.to_csv('bike_stat23.csv', index=False)\n",
    "bike_stat23"
   ]
  },
  {
   "cell_type": "markdown",
   "metadata": {},
   "source": [
    "#### Issues & Challenges\n",
    "-\n",
    "-\n",
    "-"
   ]
  },
  {
   "cell_type": "markdown",
   "metadata": {},
   "source": [
    "#### Reflection\n",
    "- 프로젝트의 방향성을 계속 못잡고 있어서, 전날(수요일)에 진행한 멘토링때 들었던 답변으로 다른사람이 분석을 한 레퍼런스를 통해 자료를 더 발전시켜서 진행하자는 의견을 제시했다.\n",
    "- 덕분에 방향성이 제대로 잡혔고, 데이터를 좀 더 수집해야 되는 과정이 필요했지만 그래도 진행이 순조롭게 되어서 다행이라고 생각했다.\n",
    "-\n",
    "-"
   ]
  }
 ],
 "metadata": {
  "language_info": {
   "name": "python"
  }
 },
 "nbformat": 4,
 "nbformat_minor": 2
}
