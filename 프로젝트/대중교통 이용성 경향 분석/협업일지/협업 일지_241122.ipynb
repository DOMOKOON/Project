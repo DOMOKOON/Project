{
 "cells": [
  {
   "cell_type": "markdown",
   "metadata": {},
   "source": [
    "### 협업일지\n",
    "#### 일자 : 2024-11-22 / 박하진"
   ]
  },
  {
   "cell_type": "markdown",
   "metadata": {},
   "source": [
    "#### 오늘 할 일\n",
    "-\n",
    "-\n",
    "-"
   ]
  },
  {
   "cell_type": "markdown",
   "metadata": {},
   "source": [
    "#### 오늘 한 일\n",
    "- 지하철 혼잡도 시각화를 위한 데이터 수집, 가공하기\n",
    "- 시각화 한 지하철 혼잡도 데이터 분석 팀원들과 공유하기\n",
    "- "
   ]
  },
  {
   "cell_type": "markdown",
   "metadata": {},
   "source": [
    "#### 내일 할 일\n",
    "-\n",
    "-\n",
    "-"
   ]
  },
  {
   "cell_type": "markdown",
   "metadata": {},
   "source": [
    "#### Codes"
   ]
  },
  {
   "cell_type": "markdown",
   "metadata": {},
   "source": [
    "#### Issues & Challenges\n",
    "- 각 지하철 역에 대한 자치구, 위도, 경도가 같이 있는 데이터가 없어서 지도시각화를 위한 데이터를 만드는데 시간을 많이 썼습니다.\n",
    "- 머지함수를 사용하여 파일을 병합하고, 결측치값은 직접 찾아서 넣었습니다.\n",
    "-"
   ]
  },
  {
   "cell_type": "markdown",
   "metadata": {},
   "source": [
    "#### Reflection\n",
    "- 지도시각화 한 것들을 팀원들에게 공유해서 표현이 잘 되었다고 해서 기분이 좋았습니다.\n",
    "-\n",
    "-"
   ]
  }
 ],
 "metadata": {
  "language_info": {
   "name": "python"
  }
 },
 "nbformat": 4,
 "nbformat_minor": 2
}
